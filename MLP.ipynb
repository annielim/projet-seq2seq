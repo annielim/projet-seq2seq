{
  "nbformat": 4,
  "nbformat_minor": 0,
  "metadata": {
    "colab": {
      "name": "MLP",
      "provenance": [],
      "collapsed_sections": []
    },
    "kernelspec": {
      "name": "python3",
      "display_name": "Python 3"
    }
  },
  "cells": [
    {
      "cell_type": "markdown",
      "metadata": {
        "id": "5Nm51E3OlMc1",
        "colab_type": "text"
      },
      "source": [
        "##[Compétition Kaggle : Web Traffic Time Series Forecasting](https://www.kaggle.com/c/web-traffic-time-series-forecasting/discussion/43795)"
      ]
    },
    {
      "cell_type": "markdown",
      "metadata": {
        "id": "-BEgw1tw65Jn",
        "colab_type": "text"
      },
      "source": [
        "## Perceptron"
      ]
    },
    {
      "cell_type": "code",
      "metadata": {
        "id": "5RihncRAQwcI",
        "colab_type": "code",
        "colab": {}
      },
      "source": [
        "import numpy as np\n",
        "%matplotlib inline\n",
        "import matplotlib.pyplot as plt\n",
        "import pandas as pd\n",
        "\n",
        "import os\n",
        "import sys\n",
        "\n",
        "import torchvision.transforms.functional as TF\n",
        "from torchvision import transforms\n",
        "\n",
        "import torch\n",
        "import torch.nn as nn\n",
        "import torch.nn.functional as F\n",
        "from torchsummary import summary\n",
        "import torch.optim as optim\n",
        "from torch.utils.data import Dataset, DataLoader\n",
        "import time\n",
        "\n",
        "device = torch.device(\"cuda\" if torch.cuda.is_available() else \"cpu\")\n"
      ],
      "execution_count": 0,
      "outputs": []
    },
    {
      "cell_type": "code",
      "metadata": {
        "id": "sfVP4vUWUkPm",
        "colab_type": "code",
        "outputId": "f5482da7-d30c-471d-dc8c-45694a9ef16d",
        "colab": {
          "base_uri": "https://localhost:8080/",
          "height": 54
        }
      },
      "source": [
        "from google.colab import drive\n",
        "drive.mount('/gdrive')\n",
        "%cd /gdrive/My\\ Drive/E4/Projet\\ Seq2seq"
      ],
      "execution_count": 0,
      "outputs": [
        {
          "output_type": "stream",
          "text": [
            "Drive already mounted at /gdrive; to attempt to forcibly remount, call drive.mount(\"/gdrive\", force_remount=True).\n",
            "/gdrive/My Drive/E4/Projet Seq2seq\n"
          ],
          "name": "stdout"
        }
      ]
    },
    {
      "cell_type": "code",
      "metadata": {
        "id": "g5VgWpx95HRT",
        "colab_type": "code",
        "colab": {}
      },
      "source": [
        "class CSVDataset(Dataset):\n",
        "\n",
        "    def __init__(self,file_path, n_x, n_y):\n",
        "        super(CSVDataset,self).__init__()\n",
        "        self.n_x = n_x\n",
        "        self.n_y = n_y\n",
        "        self.data = pd.read_csv(file_path,nrows=100)\n",
        "        self.data = self.data.fillna(0)\n",
        "        self.data = self.data[self.data.columns[1:]].values\n",
        "\n",
        "    def __len__(self):\n",
        "        return (self.data.shape[0]-self.n_x-self.n_y)*self.data.shape[1]\n",
        "\n",
        "    def __getitem__(self, index):\n",
        "        line = index //  (self.data.shape[1]-self.n_x-self.n_y)\n",
        "        i = self.n_x + self.n_y + (index % (self.data.shape[1]-self.n_x-self.n_y))\n",
        "\n",
        "        item = (torch.FloatTensor(self.data[line,i-self.n_y-self.n_x:i-self.n_y]),\n",
        "                torch.FloatTensor(self.data[line,i-self.n_y:i]))\n",
        "        item = (torch.stack([item[0]]),torch.stack([item[1]]))\n",
        "        return item"
      ],
      "execution_count": 0,
      "outputs": []
    },
    {
      "cell_type": "code",
      "metadata": {
        "id": "vz6ajftHaw-f",
        "colab_type": "code",
        "colab": {}
      },
      "source": [
        "n_x = 50 \n",
        "n_y = 10 #données suivantes\n",
        "train_dataset = CSVDataset(\"web-traffic-time-series-forecasting/train_1.csv\", n_x, n_y)"
      ],
      "execution_count": 0,
      "outputs": []
    },
    {
      "cell_type": "code",
      "metadata": {
        "id": "h3OKjTIEdTM_",
        "colab_type": "code",
        "colab": {}
      },
      "source": [
        "trainloader = DataLoader(train_dataset, batch_size=256)"
      ],
      "execution_count": 0,
      "outputs": []
    },
    {
      "cell_type": "code",
      "metadata": {
        "id": "mQFAF0jsTNda",
        "colab_type": "code",
        "outputId": "5406bb1e-8f4a-496c-d650-8b8757fa3d1c",
        "colab": {
          "base_uri": "https://localhost:8080/",
          "height": 91
        }
      },
      "source": [
        "# class Feedforward(torch.nn.Module):\n",
        "#         def __init__(self, input_size=1, hidden_size=10, output_size=1):\n",
        "#             super(Feedforward, self).__init__()\n",
        "#             self.input_size = input_size\n",
        "#             self.hidden_size  = hidden_size\n",
        "#             self.output_size = output_size\n",
        "#             self.fc1 = torch.nn.Linear(self.input_size, self.hidden_size)\n",
        "#             self.relu = torch.nn.ReLU()\n",
        "#             self.fc2 = torch.nn.Linear(self.hidden_size, self.output_size)\n",
        "#             self.sigmoid = torch.nn.Sigmoid()        \n",
        "\n",
        "#         def forward(self, x):\n",
        "#             hidden = self.fc1(x)\n",
        "#             relu = self.relu(hidden)\n",
        "#             output = self.fc2(relu)\n",
        "#             output = self.sigmoid(output)\n",
        "#             return output\n",
        "\n",
        "#https://medium.com/@benjamin.phillips22/simple-regression-with-neural-networks-in-pytorch-313f06910379\n",
        "class Net(torch.nn.Module):\n",
        "    def __init__(self, input_size=1, hidden_size=10, output_size=1):\n",
        "        super(Net, self).__init__()\n",
        "        self.hidden = torch.nn.Linear(input_size, hidden_size)   # hidden layer\n",
        "        self.predict = torch.nn.Linear(hidden_size, output_size)   # output layer\n",
        "\n",
        "    def forward(self, x):\n",
        "        x = F.relu(self.hidden(x))      # activation function for hidden layer\n",
        "        x = self.predict(x)             # linear output\n",
        "        return x\n",
        "\n",
        "\n",
        "model = Net(input_size = n_x, output_size = n_y).to(device)\n",
        "loss_function = nn.MSELoss()\n",
        "optimizer = torch.optim.Adam(model.parameters(), lr=0.001)\n",
        "print(model)"
      ],
      "execution_count": 0,
      "outputs": [
        {
          "output_type": "stream",
          "text": [
            "Net(\n",
            "  (hidden): Linear(in_features=50, out_features=10, bias=True)\n",
            "  (predict): Linear(in_features=10, out_features=10, bias=True)\n",
            ")\n"
          ],
          "name": "stdout"
        }
      ]
    },
    {
      "cell_type": "code",
      "metadata": {
        "id": "dk0NGifhaN4U",
        "colab_type": "code",
        "outputId": "0b5e765d-d4fb-4d65-f2a3-0fb67a30b3fd",
        "colab": {
          "base_uri": "https://localhost:8080/",
          "height": 220
        }
      },
      "source": [
        "epochs = 5\n",
        "\n",
        "for i in range(epochs):\n",
        "\n",
        "    for i_batch, data in enumerate(trainloader):\n",
        "        x = data[0].to(device)\n",
        "        y = data[1].to(device)\n",
        "        optimizer.zero_grad()\n",
        "\n",
        "        y_pred = model(x)\n",
        "\n",
        "        single_loss = loss_function(y_pred, y)\n",
        "        single_loss.backward()\n",
        "        optimizer.step()\n",
        "\n",
        "        # losses.append(single_loss.clone().detach().cpu().numpy())\n",
        "\n",
        "        if i_batch%100 == 0:\n",
        "            print(f'Loss at {i_batch}')\n",
        "\n",
        "            \n",
        "        \n",
        "    if i%1 == 0:\n",
        "        print(f'epoch: {i:3} loss: {single_loss.item():10.8f}')\n",
        "\n",
        "print(f'epoch: {i:3} loss: {single_loss.item():10.10f}')"
      ],
      "execution_count": 0,
      "outputs": [
        {
          "output_type": "stream",
          "text": [
            "Loss at 0\n",
            "epoch:   0 loss: 619.01141357\n",
            "Loss at 0\n",
            "epoch:   1 loss: 618.63616943\n",
            "Loss at 0\n",
            "epoch:   2 loss: 618.67590332\n",
            "Loss at 0\n",
            "epoch:   3 loss: 619.27783203\n",
            "Loss at 0\n",
            "epoch:   4 loss: 619.24560547\n",
            "epoch:   4 loss: 619.2456054688\n"
          ],
          "name": "stdout"
        }
      ]
    },
    {
      "cell_type": "code",
      "metadata": {
        "id": "Q0usD1qMum8c",
        "colab_type": "code",
        "colab": {}
      },
      "source": [
        ""
      ],
      "execution_count": 0,
      "outputs": []
    }
  ]
}